{
 "cells": [
  {
   "cell_type": "code",
   "execution_count": 2,
   "metadata": {},
   "outputs": [],
   "source": [
    "import threading\n",
    "import time"
   ]
  },
  {
   "cell_type": "code",
   "execution_count": 5,
   "metadata": {},
   "outputs": [],
   "source": [
    "# Since The class inherits the Thread class, therefore all parameters of thread are like daemon can be set in the child class\n",
    "# So self.daemon=True in SquaredSumWorker can set the parameter in Thread.\n",
    "# But note that the parameters need to be set before the start function\n",
    "\n",
    "class SquaredSumWorker(threading.Thread):\n",
    "    # **kwargs helps to pass a dictionary of parameters\n",
    "    def __init__(self, n, **kwargs):\n",
    "        self._n=n\n",
    "        super(SquaredSumWorker, self).__init__(**kwargs)\n",
    "        self.start()        # Overriding the run function from the thread class\n",
    "    \n",
    "    def _calculate_sum_of_squares(self):\n",
    "        print(f'Calculation Sum of Squares for {self._n}....', end='\\t')\n",
    "        sum_squares=0\n",
    "        for i in range(1,self._n+1):\n",
    "            sum_squares+=i**2\n",
    "        print(f'Sum of squares is {sum_squares}')\n",
    "        return sum_squares\n",
    "    \n",
    "    def run(self):\n",
    "        self._calculate_sum_of_squares()"
   ]
  },
  {
   "cell_type": "code",
   "execution_count": 17,
   "metadata": {},
   "outputs": [],
   "source": [
    "class SleepyWorker(threading.Thread):\n",
    "    # **kwargs helps to pass a dictionary of parameters\n",
    "    def __init__(self, seconds, **kwargs):\n",
    "        self._seconds=seconds\n",
    "        super(SleepyWorker, self).__init__(**kwargs)\n",
    "        self.start()        # Overriding the run function from the thread class\n",
    "    \n",
    "    def _sleepy_method(self):\n",
    "        time.sleep(self._seconds)\n",
    "\n",
    "    def run(self):\n",
    "        self._sleepy_method()"
   ]
  },
  {
   "cell_type": "code",
   "execution_count": 21,
   "metadata": {},
   "outputs": [
    {
     "name": "stdout",
     "output_type": "stream",
     "text": [
      "Calculation Sum of Squares for 100000....\tCalculation Sum of Squares for 200000....\tSum of squares is 333338333350000\n",
      "Calculation Sum of Squares for 300000....\tCalculation Sum of Squares for 400000....\tSum of squares is 2666686666700000\n",
      "Calculation Sum of Squares for 500000....\tCalculation Sum of Squares for 600000....\tSum of squares is 9000045000050000Calculation Sum of Squares for 700000....\t\n",
      "Calculation Sum of Squares for 800000....\tSum of squares is 21333413333400000\n",
      "Sum of squares is 72000180000100000\n",
      "Calculation Sum of Squares for 900000....\tCalculation Sum of Squares for 1000000....\tSum of squares is 41666791666750000\n",
      "Sum of squares is 114333578333450000\n",
      "Sum of squares is 170666986666800000\n",
      "Sum of squares is 333333833333500000\n",
      "Sum of squares is 243000405000150000\n",
      "Time To calculate the sum of squares is 2.36 seconds\n",
      "Time To for sleepy worker to finish is 4.37 seconds\n"
     ]
    }
   ],
   "source": [
    "def main_runner():\n",
    "    start_time=time.time()\n",
    "    \n",
    "    \n",
    "    current_workers=[]\n",
    "    range_of_sum_squares=10\n",
    "    \n",
    "    for i in range(range_of_sum_squares):\n",
    "        current_value=(i+1)*100000\n",
    "        squaredsumworker=SquaredSumWorker(current_value)\n",
    "        current_workers.append(squaredsumworker)\n",
    "    \n",
    "    for i in range(range_of_sum_squares):\n",
    "        current_workers[i].join()\n",
    "    \n",
    "    print(f\"Time To calculate the sum of squares is {round((time.time()-start_time),2)} seconds\")\n",
    "    \n",
    "    \n",
    "    current_workers=[]\n",
    "    range_of_sleep_second=5\n",
    "    sleep_second=2\n",
    "    \n",
    "    for i in range(range_of_sleep_second):\n",
    "        sleepyworker=SleepyWorker(sleep_second, daemon=True)        # Due to kwargs the key`word parameter is passed Thread class\n",
    "        current_workers.append(sleepyworker)\n",
    "    \n",
    "    for i in range(range_of_sleep_second):\n",
    "        current_workers[i].join()\n",
    "    \n",
    "    print(f\"Time To for sleepy worker to finish is {round((time.time()-start_time),2)} seconds\")\n",
    "    \n",
    "main_runner()"
   ]
  },
  {
   "cell_type": "code",
   "execution_count": null,
   "metadata": {},
   "outputs": [],
   "source": []
  },
  {
   "cell_type": "code",
   "execution_count": null,
   "metadata": {},
   "outputs": [],
   "source": []
  },
  {
   "cell_type": "code",
   "execution_count": null,
   "metadata": {},
   "outputs": [],
   "source": []
  },
  {
   "cell_type": "code",
   "execution_count": null,
   "metadata": {},
   "outputs": [],
   "source": []
  }
 ],
 "metadata": {
  "kernelspec": {
   "display_name": "base",
   "language": "python",
   "name": "python3"
  },
  "language_info": {
   "codemirror_mode": {
    "name": "ipython",
    "version": 3
   },
   "file_extension": ".py",
   "mimetype": "text/x-python",
   "name": "python",
   "nbconvert_exporter": "python",
   "pygments_lexer": "ipython3",
   "version": "3.8.15"
  },
  "orig_nbformat": 4
 },
 "nbformat": 4,
 "nbformat_minor": 2
}
