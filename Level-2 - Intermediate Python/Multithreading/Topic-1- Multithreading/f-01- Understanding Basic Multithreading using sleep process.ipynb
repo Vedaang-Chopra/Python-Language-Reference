{
 "cells": [
  {
   "cell_type": "code",
   "execution_count": 1,
   "metadata": {},
   "outputs": [],
   "source": [
    "import time\n",
    "import threading"
   ]
  },
  {
   "cell_type": "code",
   "execution_count": 2,
   "metadata": {},
   "outputs": [],
   "source": [
    "def do_something(seconds:2):\n",
    "    print(f'Sleeping {seconds} second(s)...')\n",
    "    time.sleep(seconds)\n",
    "    return f'Done Sleeping {seconds} seconds...'"
   ]
  },
  {
   "cell_type": "code",
   "execution_count": 3,
   "metadata": {},
   "outputs": [
    {
     "name": "stdout",
     "output_type": "stream",
     "text": [
      "Sleeping 2 second(s)...\n",
      "Done Sleeping 2 seconds...\n",
      "Sleeping 2 second(s)...\n",
      "Done Sleeping 2 seconds...\n",
      "Sleeping 2 second(s)...\n",
      "Done Sleeping 2 seconds...\n",
      "Finished in 6.02 second(s)\n"
     ]
    }
   ],
   "source": [
    "# Running Sleep Concurrently\n",
    "start = time.perf_counter()\n",
    "print(do_something(2))\n",
    "print(do_something(2))\n",
    "print(do_something(2))\n",
    "finish = time.perf_counter()\n",
    "print(f'Finished in {round(finish-start, 2)} second(s)')"
   ]
  },
  {
   "cell_type": "code",
   "execution_count": 4,
   "metadata": {},
   "outputs": [
    {
     "name": "stdout",
     "output_type": "stream",
     "text": [
      "Sleeping 2 second(s)...\n",
      "Sleeping 2 second(s)...\n",
      "Finished in 2.02 second(s)\n"
     ]
    }
   ],
   "source": [
    "#  Don't put parenthesis, don't execute the function.\n",
    "# Here we created multiple thread objects, but didn't execute the threads\n",
    "sleep_seconds=2\n",
    "t1= threading.Thread(target=do_something, args=(sleep_seconds,))\n",
    "t2= threading.Thread(target=do_something, args=(sleep_seconds,))\n",
    "start = time.perf_counter()\n",
    "t1.start()\n",
    "t2.start()\n",
    "#  Here we do a join, to prevent the script to move the main thread.\n",
    "# Here are main script is running on one thread, and when we created 2 different threads for functions, if we don't do a join, python starts to execute the first primary thread.\n",
    "#  This will result in executing the finish first.\n",
    "#  We can join threads that are created once.\n",
    "t1.join()\n",
    "t2.join()\n",
    "finish = time.perf_counter()\n",
    "print(f'Finished in {round(finish-start, 2)} second(s)')"
   ]
  },
  {
   "cell_type": "code",
   "execution_count": 7,
   "metadata": {},
   "outputs": [
    {
     "name": "stdout",
     "output_type": "stream",
     "text": [
      "Sleeping 2 second(s)...\n",
      "Sleeping 2 second(s)...\n",
      "Finished in 2.02 second(s)\n"
     ]
    }
   ],
   "source": [
    "#  Running the Code multiple times, in a loop but concurrently \n",
    "start = time.perf_counter()\n",
    "threads = []\n",
    "sleep_seconds=1\n",
    "#  _ is junk value.\n",
    "for _ in range(2):\n",
    "    t = threading.Thread(target=do_something, args=[2])\n",
    "    t.start()\n",
    "    # t.join()\n",
    "    #  Here we can't use join because the next thread isn't created yet, so there is nothing to join. If we do a join here, then it will resut in a complete syncronous code  \n",
    "    threads.append(t)\n",
    "\n",
    "for thread in threads:\n",
    "    thread.join()\n",
    "\n",
    "finish = time.perf_counter()\n",
    "print(f'Finished in {round(finish-start, 2)} second(s)')\n"
   ]
  },
  {
   "cell_type": "code",
   "execution_count": 9,
   "metadata": {},
   "outputs": [
    {
     "name": "stdout",
     "output_type": "stream",
     "text": [
      "Sleeping 2 second(s)...\n",
      "Sleeping 2 second(s)...\n",
      "Finished in 2.02 second(s)\n"
     ]
    }
   ],
   "source": [
    "# Using the Daemon Flag ..............\n",
    "# The Daemon flag if set, puts the condition that if the main thread is finished then all child thread irrespective of their current state\n",
    "# are finished. If their is a join function, then we will wait for child threads even if the daemon is set to true.\n",
    "\n",
    "\n",
    "#  Running the Code multiple times, in a loop but concurrently \n",
    "start = time.perf_counter()\n",
    "threads = []\n",
    "sleep_seconds=1\n",
    "#  _ is junk value.\n",
    "for _ in range(2):\n",
    "    t = threading.Thread(target=do_something, args=[2], daemon=True)\n",
    "    t.start()\n",
    "    # t.join()\n",
    "    #  Here we can't use join because the next thread isn't created yet, so there is nothing to join. If we do a join here, then it will resut in a complete syncronous code  \n",
    "    threads.append(t)\n",
    "\n",
    "for thread in threads:\n",
    "    thread.join()\n",
    "\n",
    "finish = time.perf_counter()\n",
    "print(f'Finished in {round(finish-start, 2)} second(s)')\n"
   ]
  },
  {
   "cell_type": "code",
   "execution_count": null,
   "metadata": {},
   "outputs": [],
   "source": []
  },
  {
   "cell_type": "code",
   "execution_count": null,
   "metadata": {},
   "outputs": [],
   "source": []
  },
  {
   "cell_type": "code",
   "execution_count": null,
   "metadata": {},
   "outputs": [],
   "source": []
  },
  {
   "cell_type": "code",
   "execution_count": null,
   "metadata": {},
   "outputs": [],
   "source": []
  }
 ],
 "metadata": {
  "kernelspec": {
   "display_name": "base",
   "language": "python",
   "name": "python3"
  },
  "language_info": {
   "codemirror_mode": {
    "name": "ipython",
    "version": 3
   },
   "file_extension": ".py",
   "mimetype": "text/x-python",
   "name": "python",
   "nbconvert_exporter": "python",
   "pygments_lexer": "ipython3",
   "version": "3.8.15"
  },
  "orig_nbformat": 4,
  "vscode": {
   "interpreter": {
    "hash": "b16ced64710a4d8c99ae3dbf0c90823ef6abb92a4bc0ca6e13965003c1eb0fcc"
   }
  }
 },
 "nbformat": 4,
 "nbformat_minor": 2
}
