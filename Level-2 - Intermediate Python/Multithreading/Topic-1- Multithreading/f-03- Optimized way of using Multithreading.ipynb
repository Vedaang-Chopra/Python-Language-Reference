{
 "cells": [
  {
   "cell_type": "code",
   "execution_count": 2,
   "metadata": {},
   "outputs": [],
   "source": [
    "from threading import Thread\n",
    "import time\n",
    "import random"
   ]
  },
  {
   "cell_type": "code",
   "execution_count": null,
   "metadata": {},
   "outputs": [],
   "source": [
    "# In the new python version, we can do it in a better way\n",
    "#  Thread Pool Executer: - Can use multi threads, or multi process also\n",
    "import concurrent.futures"
   ]
  },
  {
   "cell_type": "code",
   "execution_count": null,
   "metadata": {},
   "outputs": [],
   "source": [
    "def do_something(seconds:2):\n",
    "    print(f'Sleeping {seconds} second(s)...')\n",
    "    time.sleep(seconds)\n",
    "    return f'Done Sleeping {seconds} seconds...'"
   ]
  },
  {
   "cell_type": "code",
   "execution_count": null,
   "metadata": {},
   "outputs": [],
   "source": [
    "#  New method of running multiple threads......\n",
    "start = time.perf_counter()\n",
    "with concurrent.futures.ThreadPoolExecutor() as executor:\n",
    "    # Submit Function sets a function to be executed for running and returns an object that is the state of the function\n",
    "    f1=executor.submit(do_something, 2)\n",
    "    f2=executor.submit(do_something, 2)\n",
    "    \n",
    "    #  prints the results or returned value of the function\n",
    "    print(f1.result())\n",
    "    print(f2.result())\n",
    "    \n",
    "finish = time.perf_counter()\n",
    "print(f'Finished in {round(finish-start, 2)} second(s)')"
   ]
  },
  {
   "cell_type": "code",
   "execution_count": null,
   "metadata": {},
   "outputs": [],
   "source": [
    "#  Running same function, multiple times, using loop\n",
    "start = time.perf_counter()\n",
    "with concurrent.futures.ThreadPoolExecutor() as executor:\n",
    "    #  Collection of functions executed\n",
    "    results =[executor.submit(do_something, 2) for _ in range(10)]\n",
    "    for f in concurrent.futures.as_completed(results):\n",
    "        print(f.result()) \n",
    "    \n",
    "    \n",
    "finish = time.perf_counter()\n",
    "print(f'Finished in {round(finish-start, 2)} second(s)')"
   ]
  },
  {
   "cell_type": "code",
   "execution_count": null,
   "metadata": {},
   "outputs": [],
   "source": [
    "#  Running same function, multiple times, using loop\n",
    "start = time.perf_counter()\n",
    "with concurrent.futures.ThreadPoolExecutor() as executor:\n",
    "    #  Collection of functions executed\n",
    "    results =[executor.submit(do_something, i) for i in range(1, 10, 2)]\n",
    "    for f in concurrent.futures.as_completed(results):\n",
    "        print(f.result()) \n",
    "    \n",
    "    \n",
    "finish = time.perf_counter()\n",
    "print(f'Finished in {round(finish-start, 2)} second(s)')"
   ]
  },
  {
   "cell_type": "code",
   "execution_count": null,
   "metadata": {},
   "outputs": [],
   "source": [
    "#  Running same function, multiple times, using loop\n",
    "start = time.perf_counter()\n",
    "with concurrent.futures.ThreadPoolExecutor() as executor:\n",
    "    #  Collection of functions executed\n",
    "    results =[executor.submit(do_something, random.randint(1,10)) for i in range(1, 10, 2)]\n",
    "    for f in concurrent.futures.as_completed(results):\n",
    "        print(f.result())\n",
    "\n",
    "finish = time.perf_counter()\n",
    "print(f'Finished in {round(finish-start, 2)} second(s)')"
   ]
  },
  {
   "cell_type": "code",
   "execution_count": null,
   "metadata": {},
   "outputs": [],
   "source": []
  },
  {
   "cell_type": "code",
   "execution_count": null,
   "metadata": {},
   "outputs": [],
   "source": []
  },
  {
   "cell_type": "code",
   "execution_count": null,
   "metadata": {},
   "outputs": [],
   "source": []
  }
 ],
 "metadata": {
  "kernelspec": {
   "display_name": "base",
   "language": "python",
   "name": "python3"
  },
  "language_info": {
   "codemirror_mode": {
    "name": "ipython",
    "version": 3
   },
   "file_extension": ".py",
   "mimetype": "text/x-python",
   "name": "python",
   "nbconvert_exporter": "python",
   "pygments_lexer": "ipython3",
   "version": "3.8.15"
  },
  "orig_nbformat": 4
 },
 "nbformat": 4,
 "nbformat_minor": 2
}
