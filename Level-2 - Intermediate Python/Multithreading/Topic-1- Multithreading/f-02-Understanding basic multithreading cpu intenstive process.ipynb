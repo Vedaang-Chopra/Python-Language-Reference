{
 "cells": [
  {
   "cell_type": "code",
   "execution_count": 1,
   "metadata": {},
   "outputs": [],
   "source": [
    "import time\n",
    "import sys\n",
    "sys.set_int_max_str_digits(0)\n",
    "import threading"
   ]
  },
  {
   "cell_type": "code",
   "execution_count": 2,
   "metadata": {},
   "outputs": [],
   "source": [
    "def calculate_sum_of_squares(n):\n",
    "    print(f'Calculation Sum of Squares for {n}....', end='\\t')\n",
    "    sum_squares=0\n",
    "    for i in range(1,n+1):\n",
    "        sum_squares+=i**2\n",
    "    print(f'Sum of squares is {sum_squares}')\n",
    "    return sum_squares"
   ]
  },
  {
   "cell_type": "code",
   "execution_count": 18,
   "metadata": {},
   "outputs": [],
   "source": [
    "# Example numbers for CPU bound operations............\n",
    "numbers_to_calculate_sum_squares=[1,2,3,4,5,6,7,8,9,10]\n",
    "numbers_to_calculate_sum_squares=[i*1000000 for i in numbers_to_calculate_sum_squares]\n",
    "# numbers_to_calculate_sum_squares"
   ]
  },
  {
   "cell_type": "code",
   "execution_count": 15,
   "metadata": {},
   "outputs": [
    {
     "name": "stdout",
     "output_type": "stream",
     "text": [
      "Calculation Sum of Squares for 1000000....\tSum of squares is 333333833333500000\n",
      "Calculation Sum of Squares for 2000000....\tSum of squares is 2666668666667000000\n",
      "Calculation Sum of Squares for 3000000....\tSum of squares is 9000004500000500000\n",
      "Calculation Sum of Squares for 4000000....\tSum of squares is 21333341333334000000\n",
      "Calculation Sum of Squares for 5000000....\tSum of squares is 41666679166667500000\n",
      "Calculation Sum of Squares for 6000000....\tSum of squares is 72000018000001000000\n",
      "Calculation Sum of Squares for 7000000....\tSum of squares is 114333357833334500000\n",
      "Calculation Sum of Squares for 8000000....\tSum of squares is 170666698666668000000\n",
      "Calculation Sum of Squares for 9000000....\tSum of squares is 243000040500001500000\n",
      "Calculation Sum of Squares for 10000000....\tSum of squares is 333333383333335000000\n",
      "Finished in 22.68 second(s)\n"
     ]
    }
   ],
   "source": [
    "#  Example of Concurrency or Concurrent Code\n",
    "# Running the Sum of Squares Concurrently\n",
    "start = time.perf_counter()\n",
    "sum_squares= list(map(calculate_sum_of_squares,numbers_to_calculate_sum_squares))\n",
    "finish = time.perf_counter()\n",
    "print(f'Finished in {round(finish-start, 2)} second(s)')"
   ]
  },
  {
   "cell_type": "code",
   "execution_count": 21,
   "metadata": {},
   "outputs": [
    {
     "name": "stdout",
     "output_type": "stream",
     "text": [
      "Calculation Sum of Squares for 1000000....\tCalculation Sum of Squares for 2000000....\tCalculation Sum of Squares for 3000000....\tCalculation Sum of Squares for 4000000....\tCalculation Sum of Squares for 5000000....\tCalculation Sum of Squares for 6000000....\tCalculation Sum of Squares for 7000000....Calculation Sum of Squares for 8000000....\t\tCalculation Sum of Squares for 9000000....\tCalculation Sum of Squares for 10000000....\tSum of squares is 333333833333500000\n",
      "Sum of squares is 2666668666667000000\n",
      "Sum of squares is 9000004500000500000\n",
      "Sum of squares is 21333341333334000000\n",
      "Sum of squares is 72000018000001000000\n",
      "Sum of squares is 41666679166667500000\n",
      "Sum of squares is 170666698666668000000\n",
      "Sum of squares is 114333357833334500000\n",
      "Sum of squares is 243000040500001500000\n",
      "Sum of squares is 333333383333335000000\n",
      "Finally all the threads are completed in 21.68\n"
     ]
    }
   ],
   "source": [
    "# Here as the function is CPU intensive we are not seeing any performance gain. We see minimal gain, since all threads have started.\n",
    "\n",
    "threads_for_computation=[]\n",
    "start = time.perf_counter()\n",
    "for i in range(len(numbers_to_calculate_sum_squares)):\n",
    "    \n",
    "    # To create a Thread, use the Thread function\n",
    "    current_thread=threading.Thread(target=calculate_sum_of_squares, args=(numbers_to_calculate_sum_squares[i],))\n",
    "    threads_for_computation.append(current_thread)\n",
    "    \n",
    "    # To start the thread, we need to call the start function\n",
    "    current_thread.start()\n",
    "    \n",
    "    # If join is called here then no advantage achieved since it blocks execution of next thread, \n",
    "    # till the current thread is executed to completion\n",
    "    # current_thread.join()\n",
    "    \n",
    "for i in range(0,len(threads_for_computation)):\n",
    "    # The join function is a stopping function, it blocks the main thread, till all the child threads are executed successfully.\n",
    "    threads_for_computation[i].join()\n",
    "\n",
    "\n",
    "print(f\"Finally all the threads are completed in {round((time.perf_counter()-start),2)}\")"
   ]
  },
  {
   "cell_type": "code",
   "execution_count": null,
   "metadata": {},
   "outputs": [],
   "source": []
  },
  {
   "cell_type": "code",
   "execution_count": null,
   "metadata": {},
   "outputs": [],
   "source": []
  },
  {
   "cell_type": "code",
   "execution_count": null,
   "metadata": {},
   "outputs": [],
   "source": []
  }
 ],
 "metadata": {
  "kernelspec": {
   "display_name": "base",
   "language": "python",
   "name": "python3"
  },
  "language_info": {
   "codemirror_mode": {
    "name": "ipython",
    "version": 3
   },
   "file_extension": ".py",
   "mimetype": "text/x-python",
   "name": "python",
   "nbconvert_exporter": "python",
   "pygments_lexer": "ipython3",
   "version": "3.8.15"
  },
  "orig_nbformat": 4
 },
 "nbformat": 4,
 "nbformat_minor": 2
}
