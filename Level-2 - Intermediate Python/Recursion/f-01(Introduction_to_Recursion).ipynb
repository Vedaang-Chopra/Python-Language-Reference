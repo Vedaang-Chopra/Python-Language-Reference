{
 "cells": [
  {
   "cell_type": "code",
   "execution_count": 1,
   "metadata": {},
   "outputs": [
    {
     "data": {
      "text/plain": [
       "'\\nRecursion: -\\n1.  Function calling itself\\n2. Recursion Always needs a Base Case, without that it can get stuck in endless recursive calls \\n3. Python by default has 1000 depth recursive calls\\n4. While writing Recursion focus on the following things: - \\n    a.  What is the Base Case\\n    b. What is my hypothesis\\n    c. What is the induction step  \\n'"
      ]
     },
     "execution_count": 1,
     "metadata": {},
     "output_type": "execute_result"
    }
   ],
   "source": [
    "'''\n",
    "Recursion: -\n",
    "1.  Function calling itself\n",
    "2. Recursion Always needs a Base Case, without that it can get stuck in endless recursive calls \n",
    "3. Python by default has 1000 depth recursive calls\n",
    "4. While writing Recursion focus on the following things: - \n",
    "    a.  What is the Base Case\n",
    "    b. What is my hypothesis\n",
    "    c. What is the induction step  \n",
    "'''"
   ]
  },
  {
   "cell_type": "code",
   "execution_count": 2,
   "metadata": {},
   "outputs": [
    {
     "data": {
      "text/plain": [
       "(3628800, 3628800)"
      ]
     },
     "execution_count": 2,
     "metadata": {},
     "output_type": "execute_result"
    }
   ],
   "source": [
    "def factorial_recursive(n):\n",
    "    if n==1:\n",
    "        return 1\n",
    "    return n*factorial_recursive(n-1)\n",
    "\n",
    "def factorial_iterative(n):\n",
    "    fact=1\n",
    "    for i in range(1, n+1):\n",
    "        fact*=i \n",
    "    return fact\n",
    "\n",
    "factorial_recursive(10), factorial_iterative(10)"
   ]
  },
  {
   "cell_type": "code",
   "execution_count": 3,
   "metadata": {},
   "outputs": [
    {
     "data": {
      "text/plain": [
       "55"
      ]
     },
     "execution_count": 3,
     "metadata": {},
     "output_type": "execute_result"
    }
   ],
   "source": [
    "def sum_first_natural_numbers(n):\n",
    "    if n==0:                # Base Case\n",
    "        return 0\n",
    "    else:\n",
    "        smallOutput= sum_first_natural_numbers(n-1)      # Induction statement, don't worry how n-1 will work \n",
    "        return n+ smallOutput       # Hypothesis, assuming small output is correct.\n",
    "\n",
    "sum_first_natural_numbers(10)"
   ]
  },
  {
   "cell_type": "code",
   "execution_count": null,
   "metadata": {},
   "outputs": [],
   "source": []
  }
 ],
 "metadata": {
  "kernelspec": {
   "display_name": "Python 3",
   "language": "python",
   "name": "python3"
  },
  "language_info": {
   "codemirror_mode": {
    "name": "ipython",
    "version": 3
   },
   "file_extension": ".py",
   "mimetype": "text/x-python",
   "name": "python",
   "nbconvert_exporter": "python",
   "pygments_lexer": "ipython3",
   "version": "3.11.5"
  }
 },
 "nbformat": 4,
 "nbformat_minor": 2
}
