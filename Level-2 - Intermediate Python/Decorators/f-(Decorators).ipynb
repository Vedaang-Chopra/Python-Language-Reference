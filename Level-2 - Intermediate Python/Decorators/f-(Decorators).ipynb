{
 "cells": [
  {
   "attachments": {},
   "cell_type": "markdown",
   "metadata": {},
   "source": [
    "### Decorators\n"
   ]
  },
  {
   "cell_type": "code",
   "execution_count": 1,
   "metadata": {},
   "outputs": [],
   "source": [
    "# Function Copy \n",
    "# Closures\n",
    "# Decorators"
   ]
  },
  {
   "cell_type": "code",
   "execution_count": 6,
   "metadata": {},
   "outputs": [],
   "source": [
    "import time"
   ]
  },
  {
   "cell_type": "code",
   "execution_count": 12,
   "metadata": {},
   "outputs": [
    {
     "name": "stdout",
     "output_type": "stream",
     "text": [
      "I am here\n",
      "I am here\n",
      "Want to test, will the decorator runs first\n",
      "Want to test, will the function runs first\n",
      "This function is the first function\n",
      "Time taken by this function first_function to execute is: 0.0\n",
      "\n",
      "Adding a sleep\n",
      "\n",
      "Want to test, will the decorator runs first\n",
      "This function is the second function\n",
      "Time taken by this function second_function to execute is: 0.0\n",
      "Done\n"
     ]
    }
   ],
   "source": [
    "'''\n",
    "The purpose of Decorator is that if a common function needs to be executed across multiple functions, we can just call it using a decorator.\n",
    "\n",
    "'''\n",
    "def timer_function(func):\n",
    "    print(\"I am here\")\n",
    "    def timer_wrapper():\n",
    "        print(\"Want to test, will the decorator runs first\")\n",
    "        t1=time.time()\n",
    "        func()\n",
    "        print(f\"Time taken by this function {func.__name__} to execute is:\", time.time()-t1)\n",
    "    return timer_wrapper\n",
    "\n",
    "@timer_function\n",
    "def first_function():\n",
    "    print(\"Want to test, will the function runs first\")\n",
    "    print(\"This function is the first function\")\n",
    "    \n",
    "\n",
    "@timer_function\n",
    "def second_function():\n",
    "    print(\"This function is the second function\")\n",
    "\n",
    "first_function()\n",
    "\n",
    "print()\n",
    "print(\"Adding a sleep\")\n",
    "time.sleep(1)\n",
    "print()\n",
    "\n",
    "second_function()\n",
    "print('Done')\n"
   ]
  },
  {
   "cell_type": "code",
   "execution_count": null,
   "metadata": {},
   "outputs": [],
   "source": []
  },
  {
   "cell_type": "code",
   "execution_count": null,
   "metadata": {},
   "outputs": [],
   "source": [
    "def welcome():\n",
    "    return \"Welcome to Decorators Practice Session\"\n"
   ]
  },
  {
   "cell_type": "code",
   "execution_count": 2,
   "metadata": {},
   "outputs": [
    {
     "data": {
      "text/plain": [
       "'Welcome to Decorators Practice Session'"
      ]
     },
     "execution_count": 2,
     "metadata": {},
     "output_type": "execute_result"
    }
   ],
   "source": [
    "wel=welcome()\n",
    "wel"
   ]
  }
 ],
 "metadata": {
  "kernelspec": {
   "display_name": "base",
   "language": "python",
   "name": "python3"
  },
  "language_info": {
   "codemirror_mode": {
    "name": "ipython",
    "version": 3
   },
   "file_extension": ".py",
   "mimetype": "text/x-python",
   "name": "python",
   "nbconvert_exporter": "python",
   "pygments_lexer": "ipython3",
   "version": "3.8.15"
  },
  "orig_nbformat": 4
 },
 "nbformat": 4,
 "nbformat_minor": 2
}
