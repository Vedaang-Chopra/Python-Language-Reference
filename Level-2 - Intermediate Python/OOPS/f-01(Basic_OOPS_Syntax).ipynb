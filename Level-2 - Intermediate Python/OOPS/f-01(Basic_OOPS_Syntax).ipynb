{
 "cells": [
  {
   "cell_type": "code",
   "execution_count": null,
   "metadata": {},
   "outputs": [],
   "source": [
    "# Object Oriented Programming: - Divide the code, into managable components\n",
    "\n",
    "#  Class: - Blueprint or General idea of the program\n",
    "    # Class Attributes: General variables holding data about the class\n",
    "    # Methods: Functions that perform, actions on such attributes\n",
    "\n",
    "# Object: - Instances of Class, Multiple Unique Copies of Class "
   ]
  },
  {
   "cell_type": "code",
   "execution_count": null,
   "metadata": {},
   "outputs": [],
   "source": [
    "class Expense_Tracker:\n",
    "    #  Docstring: - Description of class\n",
    "    '''\n",
    "    This is a class to do Expense Tracking\n",
    "\n",
    "    ''' \n",
    "    #  Constructor of Class.........\n",
    "    #  Purpose is to assign value to attributes, from outside of the class\n",
    "    def __init__(self,date,description,amount) -> None:\n",
    "        #  Self, is like this keyword. Used to refer the internal attributes of the class.\n",
    "        #  Here instead of the word \"self\", we can have any other word, just need to define it in constrcutor\n",
    "        self.date=date\n",
    "        self.description=description\n",
    "        self.amount=amount"
   ]
  },
  {
   "cell_type": "code",
   "execution_count": null,
   "metadata": {},
   "outputs": [],
   "source": [
    "#  Creating an object, from class\n",
    "Home_Tracker=Expense_Tracker('4th June 2022','Snacks Expense', 1500)\n",
    "print(Home_Tracker.description)\n",
    "Office_Tracker_Debit =Expense_Tracker('2nd June','Flight Tickets', 10000)\n",
    "Office_Tracker_Credit =Expense_Tracker('25th June','Salary Credited', 50000)\n",
    "\n",
    "print(Office_Tracker_Debit.amount,Office_Tracker_Credit.amount)"
   ]
  },
  {
   "cell_type": "code",
   "execution_count": null,
   "metadata": {},
   "outputs": [],
   "source": []
  }
 ],
 "metadata": {
  "language_info": {
   "name": "python"
  },
  "orig_nbformat": 4
 },
 "nbformat": 4,
 "nbformat_minor": 2
}
