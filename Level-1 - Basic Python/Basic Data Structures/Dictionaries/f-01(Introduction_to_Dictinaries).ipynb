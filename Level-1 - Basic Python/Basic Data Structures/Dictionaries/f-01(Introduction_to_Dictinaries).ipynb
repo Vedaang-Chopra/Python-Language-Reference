{
 "cells": [
  {
   "cell_type": "code",
   "execution_count": 22,
   "metadata": {},
   "outputs": [
    {
     "data": {
      "text/plain": [
       "'\\nWhere Keys are numbers in lists, dictionaries allow to save strings as keys.\\n\\nHere we can save the frequency of a string in key-value pair\\n{\\n    \\'the\\':1,\\n    \\'a\\':2,\\n    100 :\"str\"  \\n}\\n\\nHere keys can be strings or integers. Anything can be key or value\\nNote Dictionaries are mutable(we can change part of it)\\n'"
      ]
     },
     "execution_count": 22,
     "metadata": {},
     "output_type": "execute_result"
    }
   ],
   "source": [
    "'''\n",
    "Where Keys are numbers in lists, dictionaries allow to save strings as keys.\n",
    "\n",
    "Here we can save the frequency of a string in key-value pair\n",
    "{\n",
    "    'the':1,\n",
    "    'a':2,\n",
    "    100 :\"str\"  \n",
    "}\n",
    "\n",
    "Here keys can be strings or integers. Anything can be key or value\n",
    "Note Dictionaries are mutable(we can change part of it)\n",
    "'''"
   ]
  },
  {
   "cell_type": "code",
   "execution_count": 23,
   "metadata": {},
   "outputs": [],
   "source": [
    "#  Creating a new Dictionaries.....\n",
    "a={\n",
    "    'the':1, 'a':2, 100:\"str\"\n",
    "}\n",
    "\n",
    "b=a.copy()\n",
    "c=dict([(\"key1\", \"value1\"), (\"key2\", \"value2\"), (\"key3\", \"value3\")])\n",
    "d=dict.fromkeys([\"key1\", \"key2\", \"key3\"]) # Here all keys have same value"
   ]
  },
  {
   "cell_type": "code",
   "execution_count": 24,
   "metadata": {},
   "outputs": [
    {
     "data": {
      "text/plain": [
       "{'key1': 1, 2: '2', 'key3': range(0, 10), 'key4': {'subkey1': 'subvalue1'}}"
      ]
     },
     "execution_count": 24,
     "metadata": {},
     "output_type": "execute_result"
    }
   ],
   "source": [
    "#  Accessing Dictionary Data......\n",
    "dict1={\n",
    "    \"key1\":1,\n",
    "    2:\"2\",\n",
    "    \"key3\":range(10),\n",
    "    \"key4\":{\"subkey1\":\"subvalue1\"}\n",
    "}\n",
    "dict1"
   ]
  },
  {
   "cell_type": "code",
   "execution_count": 25,
   "metadata": {},
   "outputs": [
    {
     "name": "stdout",
     "output_type": "stream",
     "text": [
      "1\n",
      "2\n",
      "None\n",
      "error\n"
     ]
    }
   ],
   "source": [
    "print(dict1[\"key1\"])        # Method-1 : - Direct Access the Key\n",
    "print(dict1.get(2))        # Method-2: - Using the Get Method\n",
    "\n",
    "# Advantage of using get is that if we don't have the key present then it doesn't crash but rather returns None or some specific value we have specified.\n",
    "# Example: - \n",
    "print(dict1.get(1)) # Prints None\n",
    "print(dict1.get(1, \"error\")) # Prints Error if key not present"
   ]
  },
  {
   "cell_type": "code",
   "execution_count": 26,
   "metadata": {},
   "outputs": [
    {
     "name": "stdout",
     "output_type": "stream",
     "text": [
      "dict_keys(['key1', 2, 'key3', 'key4'])\n",
      "dict_values([1, '2', range(0, 10), {'subkey1': 'subvalue1'}])\n",
      "dict_items([('key1', 1), (2, '2'), ('key3', range(0, 10)), ('key4', {'subkey1': 'subvalue1'})])\n",
      "key1 1\n",
      "2 2\n",
      "key3 range(0, 10)\n",
      "key4 {'subkey1': 'subvalue1'}\n"
     ]
    }
   ],
   "source": [
    "print(dict1.keys())        # To access all the Keys of a dictionary\n",
    "print(dict1.values())       # To access all the Values of a dictionary\n",
    "print(dict1.items())        # To get all key value pairs of the dictionary\n",
    "# Iterating over a dictionary using For- Loop\n",
    "for key, value in dict1.items():\n",
    "    print(key, value)"
   ]
  },
  {
   "cell_type": "code",
   "execution_count": 27,
   "metadata": {},
   "outputs": [
    {
     "data": {
      "text/plain": [
       "{'the': 1,\n",
       " 'a': 2,\n",
       " 100: 'str',\n",
       " 'key1': 1,\n",
       " 2: 100,\n",
       " 'key3': range(0, 10),\n",
       " 'key4': {'subkey1': 'subvalue1'},\n",
       " 'tuple_key': (10, 20, 30)}"
      ]
     },
     "execution_count": 27,
     "metadata": {},
     "output_type": "execute_result"
    }
   ],
   "source": [
    "# Adding Data to Dictionary\n",
    "dict1['tuple_key']=(10,20,30)\n",
    "\n",
    "#  Updating Data \n",
    "dict1[2]=100        # Particular Key updated\n",
    "\n",
    "# Using the update function does the following: - \n",
    "# 1. Any Common Key between two dictionaries is updated with the new dictionary(dict1)\n",
    "# 2. Any non existing key is added (from dict1)\n",
    "a.update(dict1)     \n",
    "a"
   ]
  },
  {
   "cell_type": "code",
   "execution_count": 28,
   "metadata": {},
   "outputs": [
    {
     "data": {
      "text/plain": [
       "dict_keys(['the', 'a', 100, 'key1', 'key4', 'tuple_key'])"
      ]
     },
     "execution_count": 28,
     "metadata": {},
     "output_type": "execute_result"
    }
   ],
   "source": [
    "# Deleting particular keys from Dictionary\n",
    "\n",
    "value_returned=a.pop(2)\n",
    "del a['key3']\n",
    "\n",
    "a.keys()"
   ]
  },
  {
   "cell_type": "code",
   "execution_count": 30,
   "metadata": {},
   "outputs": [
    {
     "data": {
      "text/plain": [
       "{}"
      ]
     },
     "execution_count": 30,
     "metadata": {},
     "output_type": "execute_result"
    }
   ],
   "source": [
    "a.clear()       # To clear entire Dictionary\n",
    "a"
   ]
  },
  {
   "cell_type": "code",
   "execution_count": null,
   "metadata": {},
   "outputs": [],
   "source": [
    "# The aim here is to print all the words with frequency 1\n",
    "\n",
    "demo_str=\"This is a word string having many many word\"\n",
    "k=2\n",
    "def printKFrequencyWords(demo_str, k):\n",
    "    temp=dict.fromkeys([i for i in demo_str.split(' ')], 0)\n",
    "    for i in demo_str.split(' '):\n",
    "        if i in temp:\n",
    "            temp[i]+=1\n",
    "    # print(temp)\n",
    "    for word in temp:\n",
    "        # print(word, temp[word])\n",
    "        if temp[word]==k:\n",
    "            print(word)\n",
    "\n",
    "printKFrequencyWords(demo_str, k)"
   ]
  }
 ],
 "metadata": {
  "kernelspec": {
   "display_name": "base",
   "language": "python",
   "name": "python3"
  },
  "language_info": {
   "codemirror_mode": {
    "name": "ipython",
    "version": 3
   },
   "file_extension": ".py",
   "mimetype": "text/x-python",
   "name": "python",
   "nbconvert_exporter": "python",
   "pygments_lexer": "ipython3",
   "version": "3.11.5"
  }
 },
 "nbformat": 4,
 "nbformat_minor": 2
}
