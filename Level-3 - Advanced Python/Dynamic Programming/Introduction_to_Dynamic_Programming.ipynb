{
 "cells": [
  {
   "cell_type": "code",
   "execution_count": 11,
   "metadata": {},
   "outputs": [],
   "source": [
    "#  Fibonacci Recursively\n",
    "def fib_recursive(n, dp):\n",
    "    if n==0 or n==1:\n",
    "        return n\n",
    "    \n",
    "    if dp[n-1]==-1:\n",
    "        fib_n_1=fib_recursive(n-1,dp)\n",
    "        dp[n-1]=fib_n_1\n",
    "    else:\n",
    "        fib_n_1=dp[n-1]\n",
    "        \n",
    "    \n",
    "    if dp[n-2]==-1:\n",
    "        fib_n_2=fib_recursive(n-2,dp)\n",
    "        dp[n-2]=fib_n_2\n",
    "    else:\n",
    "        fib_n_2=dp[n-2]\n",
    "    \n",
    "    fib_n=fib_n_1+fib_n_2\n",
    "    return fib_n"
   ]
  },
  {
   "cell_type": "code",
   "execution_count": 12,
   "metadata": {},
   "outputs": [],
   "source": [
    "#  Fibonacci Iteratively\n",
    "def fib_iterative(n):\n",
    "    dp=[0 for i in range(0,n+1)]\n",
    "    dp[0]=0\n",
    "    dp[1]=1\n",
    "    i=2\n",
    "    while i<=n:\n",
    "        dp[i]=dp[i-1]+dp[i-2]\n",
    "        i+=1\n",
    "    return dp[n]"
   ]
  },
  {
   "cell_type": "code",
   "execution_count": 14,
   "metadata": {},
   "outputs": [
    {
     "name": "stdout",
     "output_type": "stream",
     "text": [
      "Sum of first 8 fibonacci numbers(recursively) is: 21\n",
      "Sum of first 8 fibonacci numbers(iteratively) is: 21\n"
     ]
    }
   ],
   "source": [
    "n=int(input(\"Please enter number for fibonacci to calculate:\"))\n",
    "dp=[-1 for i in range(0,(n+1))]\n",
    "print(f\"Sum of first {n} fibonacci numbers(recursively) is: {fib_recursive(n, dp)}\")\n",
    "print(f\"Sum of first {n} fibonacci numbers(iteratively) is: {fib_iterative(n)}\")"
   ]
  },
  {
   "cell_type": "code",
   "execution_count": 39,
   "metadata": {},
   "outputs": [],
   "source": [
    "# Minimum  Steps\n",
    "def min_steps_recursive(n, results):\n",
    "    if n==1:\n",
    "        return 0\n",
    "    \n",
    "    if results[n-1]==-1:\n",
    "        min_steps_1=min_steps_recursive(n-1,results)\n",
    "        results[n-1]=min_steps_1\n",
    "    else:\n",
    "        min_steps_1=results[n-1]\n",
    "        \n",
    "    if n%2==0:\n",
    "        if results[n//2]==-1:\n",
    "            min_steps_2=min_steps_recursive(n//2,results)\n",
    "            results[n//2]=min_steps_2\n",
    "        else:\n",
    "            min_steps_2=results[n//2]\n",
    "    else:\n",
    "        min_steps_2=n\n",
    "        \n",
    "    if n%3==0:\n",
    "        if results[n//3]==-1:\n",
    "            min_steps_3=min_steps_recursive(n//3,results)\n",
    "            results[n//3]=min_steps_3\n",
    "        else:\n",
    "            min_steps_3=results[n//3]\n",
    "    else:\n",
    "        min_steps_3=n\n",
    "    \n",
    "    return 1+ min(min_steps_1,min_steps_2,min_steps_3)\n",
    "    "
   ]
  },
  {
   "cell_type": "code",
   "execution_count": 52,
   "metadata": {},
   "outputs": [],
   "source": [
    "#  Problem in this function.......\n",
    "def min_steps_iterative(n):\n",
    "    \n",
    "    results=[-1 for i in range(0,n+1)]\n",
    "    i=n\n",
    "    steps=0\n",
    "    \n",
    "    for i in range(n,1,-1):\n",
    "        results[i-1]=i-1\n",
    "        if i%2==0:\n",
    "            results[i//2]=i//2\n",
    "        if i%3==0:\n",
    "            results[i//3]=i//3\n",
    "        i=min(results[i-1], results[i//2], results[i//3])\n",
    "        steps=steps+1\n",
    "    return steps    "
   ]
  },
  {
   "cell_type": "code",
   "execution_count": 53,
   "metadata": {},
   "outputs": [
    {
     "name": "stdout",
     "output_type": "stream",
     "text": [
      "Minimum steps(recursively) for 41 to reach 1 is: 6\n",
      "Minimum steps(iteratively) for 41 to reach 1 is: 40\n"
     ]
    }
   ],
   "source": [
    "n=int(input(\"Please enter number for min steps:\"))\n",
    "dp=[-1 for i in range(0,(n+1))]\n",
    "print(f\"Minimum steps(recursively) for {n} to reach 1 is: {min_steps_recursive(n, dp)}\")\n",
    "print(f\"Minimum steps(iteratively) for {n} to reach 1 is: {min_steps_iterative(n)}\")"
   ]
  },
  {
   "cell_type": "code",
   "execution_count": 48,
   "metadata": {},
   "outputs": [],
   "source": [
    "import math\n",
    "def min_squares_recursive(n):\n",
    "    sqrt_int=int(math.sqrt(n))\n",
    "    ans=n\n",
    "    for i in range(1,sqrt_int+1):\n",
    "        if n==0:\n",
    "            return 0\n",
    "        \n",
    "        currAns=1+min_squares_recursive(n-(i**2))\n",
    "        ans=min(ans, currAns)\n",
    "    return ans"
   ]
  },
  {
   "cell_type": "code",
   "execution_count": 51,
   "metadata": {},
   "outputs": [
    {
     "data": {
      "text/plain": [
       "4"
      ]
     },
     "execution_count": 51,
     "metadata": {},
     "output_type": "execute_result"
    }
   ],
   "source": [
    "n=int(input(\"Please enter number for min steps:\"))\n",
    "min_squares_recursive(n)"
   ]
  },
  {
   "cell_type": "code",
   "execution_count": 61,
   "metadata": {},
   "outputs": [],
   "source": [
    "def lis(arr):\n",
    "    final_lis=-1\n",
    "    for i in range(0,len(arr)):\n",
    "        curr_elem=arr[i]\n",
    "        subsequence_lis=0\n",
    "        for j in range(i+1,len(arr)):\n",
    "            if arr[j]>=curr_elem:\n",
    "                subsequence_lis=1+lis(arr[j:])\n",
    "            else:\n",
    "                continue\n",
    "        curr_elem_lis=1+subsequence_lis\n",
    "        final_lis=max(final_lis, curr_elem_lis)\n",
    "    return final_lis"
   ]
  },
  {
   "cell_type": "code",
   "execution_count": 83,
   "metadata": {},
   "outputs": [],
   "source": [
    "def lis(arr, i, n):\n",
    "    if i==n:\n",
    "        return 0,0\n",
    "    \n",
    "    subsequence_lis_including_element=1\n",
    "    for j in range(i+1, n):\n",
    "        if arr[j]>=arr[i]:\n",
    "            lis_subsequence_excluding_element=lis(arr,j, n)[0]\n",
    "            subsequence_lis_including_element=max(subsequence_lis_including_element,1+lis_subsequence_excluding_element)\n",
    "    \n",
    "    complete_sequence_lis=lis(arr, i+1, n)[1]\n",
    "    final_lis_value=max(complete_sequence_lis, subsequence_lis_including_element)\n",
    "    return subsequence_lis_including_element, final_lis_value\n",
    "                "
   ]
  },
  {
   "cell_type": "code",
   "execution_count": 84,
   "metadata": {},
   "outputs": [
    {
     "data": {
      "text/plain": [
       "4"
      ]
     },
     "execution_count": 84,
     "metadata": {},
     "output_type": "execute_result"
    }
   ],
   "source": [
    "arr=[6,3,1,2,0,7,9]\n",
    "lis(arr,0, len(arr))[1]"
   ]
  },
  {
   "cell_type": "code",
   "execution_count": null,
   "metadata": {},
   "outputs": [],
   "source": [
    "def step_climbing(n):\n",
    "    if n==0:\n",
    "        return 0\n",
    "    \n",
    "    k_possible_ways=k_possible_ways + (1 + step_climbing(n-1))\n",
    "    k_possible_ways=k_possible_ways + (1 + step_climbing(n-2))\n",
    "    \n",
    "    \n",
    "    return k_possible_ways    "
   ]
  },
  {
   "cell_type": "code",
   "execution_count": null,
   "metadata": {},
   "outputs": [],
   "source": [
    "\n",
    "step_climbing()"
   ]
  },
  {
   "cell_type": "code",
   "execution_count": null,
   "metadata": {},
   "outputs": [],
   "source": []
  }
 ],
 "metadata": {
  "kernelspec": {
   "display_name": "base",
   "language": "python",
   "name": "python3"
  },
  "language_info": {
   "codemirror_mode": {
    "name": "ipython",
    "version": 3
   },
   "file_extension": ".py",
   "mimetype": "text/x-python",
   "name": "python",
   "nbconvert_exporter": "python",
   "pygments_lexer": "ipython3",
   "version": "3.8.15"
  },
  "orig_nbformat": 4
 },
 "nbformat": 4,
 "nbformat_minor": 2
}
