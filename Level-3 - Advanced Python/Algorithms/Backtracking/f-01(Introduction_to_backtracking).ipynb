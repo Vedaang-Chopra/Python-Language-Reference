{
 "cells": [
  {
   "cell_type": "code",
   "execution_count": 2,
   "metadata": {},
   "outputs": [
    {
     "data": {
      "text/plain": [
       "'\\nIntroduction to Backtracking\\n\\n1. Backtracking is basically exploring all options\\n2. Backtracking needs Recursion\\n\\nProblem examples: - \\n1. Check if path exists\\n2. Get all the Paths\\n3. Print all the paths \\n4. Create subset of elements(triplets) whose the sum is some X number from an array\\n'"
      ]
     },
     "execution_count": 2,
     "metadata": {},
     "output_type": "execute_result"
    }
   ],
   "source": [
    "'''\n",
    "Introduction to Backtracking\n",
    "\n",
    "1. Backtracking is basically exploring all options\n",
    "2. Backtracking needs Recursion\n",
    "\n",
    "Problem examples: - \n",
    "1. Check if path exists\n",
    "2. Get all the Paths\n",
    "3. Print all the paths \n",
    "4. Create subset of elements(triplets) whose the sum is some X number from an array\n",
    "'''"
   ]
  },
  {
   "cell_type": "code",
   "execution_count": 1,
   "metadata": {},
   "outputs": [],
   "source": [
    "# Problem Example: - Rat in a Maze\n",
    "\n",
    "# 1 is the point where we can move\n",
    "# 0 is a blocking point, from where we can't move\n",
    "maze=[\n",
    "    [1,1,1,0],\n",
    "    [1,1,1,1],\n",
    "    [1,1,0,1],\n",
    "    [1,1,1,1]\n",
    "]"
   ]
  },
  {
   "cell_type": "code",
   "execution_count": 8,
   "metadata": {},
   "outputs": [],
   "source": [
    "n=int(input())\n",
    "maze=[]\n",
    "for i in range(n):\n",
    "    row=[int(ele) for ele in input().split()]\n",
    "    maze.append(row)"
   ]
  },
  {
   "cell_type": "code",
   "execution_count": 9,
   "metadata": {},
   "outputs": [],
   "source": [
    "n=4\n",
    "starting_coordinate = (0,0)\n",
    "ending_coordinate = (n-1,n-1)"
   ]
  },
  {
   "cell_type": "code",
   "execution_count": 11,
   "metadata": {},
   "outputs": [],
   "source": [
    "# Here to implement it we will create multiple new mazes with only path from starting to ending point\n",
    "# So initially we declare new maze with all 0's and then fill it with 1's\n",
    "\n",
    "def printPathHelper(x,y, maze, n, solution):\n",
    "    # First we define the base case of recursion\n",
    "    \n",
    "    if x==ending_coordinate[0] and y==ending_coordinate[1]:\n",
    "        solution[x][y] =1\n",
    "        print(solution)\n",
    "        return\n",
    "    if x<0 or y<0 or x>=n or y>=n or maze[x][y]==0 or solution[x][y]==1:\n",
    "        return\n",
    "\n",
    "    solution[x][y]=1\n",
    "    printPathHelper(x+1, y, maze, n, solution)\n",
    "    printPathHelper(x, y+1, maze, n, solution)\n",
    "    printPathHelper(x-1, y, maze, n, solution)\n",
    "    printPathHelper(x, y-1, maze, n, solution)\n",
    "    \n",
    "    solution[x][y]=0\n",
    "    return\n",
    "\n",
    "\n",
    "def printPath(maze):\n",
    "    n=len(maze)\n",
    "    solution=[[0 for i in range(n)] for j in range(n)]\n",
    "    printPathHelper(starting_coordinate[0], starting_coordinate[1], maze, n, solution)"
   ]
  },
  {
   "cell_type": "code",
   "execution_count": 10,
   "metadata": {},
   "outputs": [
    {
     "data": {
      "text/plain": [
       "[[1, 1, 1, 1], [1, 0, 1, 1], [1, 1, 0, 1], [1, 1, 1, 1]]"
      ]
     },
     "execution_count": 10,
     "metadata": {},
     "output_type": "execute_result"
    }
   ],
   "source": [
    "maze"
   ]
  },
  {
   "cell_type": "code",
   "execution_count": 12,
   "metadata": {},
   "outputs": [
    {
     "name": "stdout",
     "output_type": "stream",
     "text": [
      "[[1, 0, 0, 0], [1, 0, 0, 0], [1, 0, 0, 0], [1, 1, 1, 1]]\n",
      "[[1, 0, 0, 0], [1, 0, 0, 0], [1, 1, 0, 0], [0, 1, 1, 1]]\n",
      "[[1, 1, 1, 0], [0, 0, 1, 1], [0, 0, 0, 1], [0, 0, 0, 1]]\n",
      "[[1, 1, 1, 1], [0, 0, 0, 1], [0, 0, 0, 1], [0, 0, 0, 1]]\n"
     ]
    }
   ],
   "source": [
    "printPath(maze)"
   ]
  },
  {
   "cell_type": "code",
   "execution_count": null,
   "metadata": {},
   "outputs": [],
   "source": []
  },
  {
   "cell_type": "code",
   "execution_count": null,
   "metadata": {},
   "outputs": [],
   "source": []
  }
 ],
 "metadata": {
  "kernelspec": {
   "display_name": "Python 3",
   "language": "python",
   "name": "python3"
  },
  "language_info": {
   "codemirror_mode": {
    "name": "ipython",
    "version": 3
   },
   "file_extension": ".py",
   "mimetype": "text/x-python",
   "name": "python",
   "nbconvert_exporter": "python",
   "pygments_lexer": "ipython3",
   "version": "3.8.15"
  }
 },
 "nbformat": 4,
 "nbformat_minor": 2
}
