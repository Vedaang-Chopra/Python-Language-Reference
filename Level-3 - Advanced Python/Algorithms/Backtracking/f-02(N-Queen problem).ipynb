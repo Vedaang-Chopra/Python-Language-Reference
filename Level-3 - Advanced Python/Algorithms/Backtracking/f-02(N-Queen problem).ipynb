{
 "cells": [
  {
   "cell_type": "code",
   "execution_count": 1,
   "metadata": {},
   "outputs": [
    {
     "data": {
      "text/plain": [
       "' \\n\\nN-Queen Problem: - \\nPlace Queens in such a way that no queen can cut each other on a chessboard\\n\\nSo given N queens place them on N*N chessboard.\\n'"
      ]
     },
     "execution_count": 1,
     "metadata": {},
     "output_type": "execute_result"
    }
   ],
   "source": [
    "''' \n",
    "\n",
    "N-Queen Problem: - \n",
    "Place Queens in such a way that no queen can cut each other on a chessboard\n",
    "\n",
    "So given N queens find ways to place them on an N*N chessboard.\n",
    "\n",
    "'''\n"
   ]
  },
  {
   "cell_type": "code",
   "execution_count": 29,
   "metadata": {},
   "outputs": [
    {
     "name": "stdout",
     "output_type": "stream",
     "text": [
      "[0,1,0,0],[0,0,0,1],[1,0,0,0],[0,0,1,0],\n",
      "[0,0,1,0],[1,0,0,0],[0,0,0,1],[0,1,0,0],\n"
     ]
    }
   ],
   "source": [
    "def isPlacementPossible(row, col, board, n):\n",
    "    \n",
    "    # Check if any Queen is present in the same column\n",
    "    i=row-1\n",
    "    while i>=0:\n",
    "        if board[i][col]==1:\n",
    "            return False\n",
    "        i=i-1\n",
    "    \n",
    "    # Check if any Queen is present in the diagonally left \n",
    "    i=row-1\n",
    "    j=col-1\n",
    "    while i>=0 and j>=0:\n",
    "        if board[i][j]==1:\n",
    "            return False\n",
    "        i-=1\n",
    "        j-=1\n",
    "\n",
    "    \n",
    "    # Check if any Queen is present in the diagonally right\n",
    "    i=row-1\n",
    "    j=col+1\n",
    "    while i>=0 and j<n:\n",
    "        if board[i][j]==1:\n",
    "            return False\n",
    "        i-=1\n",
    "        j+=1\n",
    "\n",
    "    return True\n",
    "\n",
    "def nQueenHelper(row, current_placement, n):\n",
    "    \n",
    "    if row==n:\n",
    "        for i in range(n):\n",
    "            print('[', end='')\n",
    "            for j in range(n):\n",
    "                if j==n-1:\n",
    "                    print(str(current_placement[i][j]), end='')\n",
    "                else:\n",
    "                    print(str(current_placement[i][j])+\",\", end='')\n",
    "            print(']', end=',')\n",
    "        print()\n",
    "        return\n",
    "    \n",
    "    for col in range(n):\n",
    "        if isPlacementPossible(row, col, current_placement, n) is True:\n",
    "            current_placement[row][col]=1\n",
    "            nQueenHelper(row+1, current_placement, n)\n",
    "            current_placement[row][col]=0\n",
    "    \n",
    "def nQueen(number_of_queens):\n",
    "    current_placement=[[0 for i in range(number_of_queens)] for j in range(number_of_queens)]\n",
    "    nQueenHelper(0, current_placement, number_of_queens)\n",
    "\n",
    "\n",
    "number_of_queens=4\n",
    "nQueen(number_of_queens)"
   ]
  },
  {
   "cell_type": "code",
   "execution_count": 12,
   "metadata": {},
   "outputs": [],
   "source": []
  },
  {
   "cell_type": "code",
   "execution_count": null,
   "metadata": {},
   "outputs": [],
   "source": []
  },
  {
   "cell_type": "code",
   "execution_count": null,
   "metadata": {},
   "outputs": [],
   "source": []
  },
  {
   "cell_type": "code",
   "execution_count": null,
   "metadata": {},
   "outputs": [],
   "source": []
  }
 ],
 "metadata": {
  "kernelspec": {
   "display_name": "Python 3",
   "language": "python",
   "name": "python3"
  },
  "language_info": {
   "codemirror_mode": {
    "name": "ipython",
    "version": 3
   },
   "file_extension": ".py",
   "mimetype": "text/x-python",
   "name": "python",
   "nbconvert_exporter": "python",
   "pygments_lexer": "ipython3",
   "version": "3.8.15"
  }
 },
 "nbformat": 4,
 "nbformat_minor": 2
}
