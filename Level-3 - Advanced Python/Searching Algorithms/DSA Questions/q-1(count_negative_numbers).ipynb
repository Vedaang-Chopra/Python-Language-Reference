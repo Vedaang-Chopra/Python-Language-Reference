{
 "cells": [
  {
   "cell_type": "markdown",
   "metadata": {},
   "source": [
    "Given a m x n matrix grid which is sorted in non-increasing order both row-wise and column-wise, return the number of negative numbers in grid."
   ]
  },
  {
   "cell_type": "markdown",
   "metadata": {},
   "source": [
    "Example 1:\n",
    "\n",
    "Input: grid = [[4,3,2,-1],[3,2,1,-1],[1,1,-1,-2],[-1,-1,-2,-3]]\n",
    "Output: 8\n",
    "Explanation: There are 8 negatives number in the matrix.\n",
    "Example 2:\n",
    "\n",
    "Input: grid = [[3,2],[1,0]]\n",
    "Output: 0\n",
    " \n",
    "\n",
    "Constraints:\n",
    "\n",
    "m == grid.length\n",
    "n == grid[i].length\n",
    "1 <= m, n <= 100\n",
    "-100 <= grid[i][j] <= 100\n",
    " \n",
    "\n",
    "Follow up: Could you find an O(n + m) solution?"
   ]
  },
  {
   "cell_type": "code",
   "execution_count": null,
   "metadata": {},
   "outputs": [],
   "source": []
  },
  {
   "cell_type": "code",
   "execution_count": null,
   "metadata": {},
   "outputs": [],
   "source": [
    "def check_row_index_contains_negative(arr:list, index:int):\n",
    "    if arr[index]<0:\n",
    "        return True\n",
    "    else:\n",
    "        return False\n",
    "    \n",
    "\n",
    "\n",
    "def break_and_check(arr:list):\n",
    "    lower=0\n",
    "    \n",
    "\n",
    "\n",
    "def count_negative_number(grid:list, negative_number_count:int):\n",
    "    i=0\n",
    "    while (i<len(grid)):\n",
    "        CURRENT_ROW=grid[i]\n",
    "        if check_row_index_contains_negative(CURRENT_ROW,-1):\n",
    "            count_negative_number(CURRENT_ROW[:len(CURRENT_ROW)//2])\n",
    "            break_and_check(CURRENT_ROW[len(CURRENT_ROW)//2]:)\n",
    "        else:\n",
    "            i=i+1\n",
    "        \n",
    "        \n",
    "    \n",
    "            \n",
    "            \n",
    "        else:\n",
    "            continue\n",
    "\n",
    "\n",
    "\n"
   ]
  },
  {
   "cell_type": "code",
   "execution_count": null,
   "metadata": {},
   "outputs": [],
   "source": [
    "negative_count=0"
   ]
  },
  {
   "cell_type": "code",
   "execution_count": 1,
   "metadata": {},
   "outputs": [],
   "source": [
    "grid = [[4,3,2,-1],[3,2,1,-1],[1,1,-1,-2],[-1,-1,-2,-3]]"
   ]
  },
  {
   "cell_type": "code",
   "execution_count": null,
   "metadata": {},
   "outputs": [],
   "source": []
  },
  {
   "cell_type": "code",
   "execution_count": null,
   "metadata": {},
   "outputs": [],
   "source": []
  }
 ],
 "metadata": {
  "kernelspec": {
   "display_name": "base",
   "language": "python",
   "name": "python3"
  },
  "language_info": {
   "codemirror_mode": {
    "name": "ipython",
    "version": 3
   },
   "file_extension": ".py",
   "mimetype": "text/x-python",
   "name": "python",
   "nbconvert_exporter": "python",
   "pygments_lexer": "ipython3",
   "version": "3.8.15"
  }
 },
 "nbformat": 4,
 "nbformat_minor": 2
}
