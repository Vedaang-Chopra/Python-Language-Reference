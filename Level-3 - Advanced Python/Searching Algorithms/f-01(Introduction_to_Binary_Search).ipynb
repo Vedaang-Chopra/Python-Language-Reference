{
 "cells": [
  {
   "cell_type": "markdown",
   "metadata": {},
   "source": [
    "\n",
    "Binary Search:\n",
    "1. Works on Sorted arrays\n",
    "2. Uses Divide and Conquer approach to eliminate half elements of sorted array\n",
    "\n",
    "\n",
    "\n",
    "\n",
    "Step-1: - Identify the middle element of the array int((start_index+end_index)/2) <br>\n",
    "Step-2: - Compare the middle element to the element to be searched. <br>\n",
    "Step-3: - If element_to_be_searched==middle element-> return; <br>\n",
    "          Else: element_to_be_searched < middle element-> upper_bound= mid-1 ; <br>\n",
    "          Split the array by chaning the upper bound <br>\n",
    "          Else: element_to_be_searched > middle element-> lower_bound= mid-1 ; <br>\n",
    "          Split the array by chaning the lower bound <br>\n",
    "Step-3: - Repeat Step-1,2,3 again and again until only middle element, upper and lower bound are at the same index,  <br>\n",
    "          and compare the element to be searched, If not found-> return <br>\n",
    "\n",
    "\n",
    "Binary Search Edge Cases <br>\n",
    "1. If element doesn't exist in the array: Then add stopping criteria, if upper - lower <0 ; return Not Found <br>\n",
    "2. In case of duplicates: it returns the first instance itself wherever it finds it <br>\n"
   ]
  },
  {
   "cell_type": "code",
   "execution_count": 2,
   "metadata": {},
   "outputs": [],
   "source": [
    "def binary_search(arr:list, element, debug=False):\n",
    "    lower=0\n",
    "    upper=len(arr)-1\n",
    "    while lower <= upper:\n",
    "        mid=int((lower+upper)/2)      # mid = (lower+upper)//2 Integer Division\n",
    "        if debug:\n",
    "            print(\"Lower, Upper Bounds and Middle are:\", lower, upper, mid)\n",
    "            print(\"Array Values for Lower, Upper Bounds and Middle are:\", arr[lower], arr[upper], arr[mid])\n",
    "        if element == arr[mid]:\n",
    "            return \"Element Found at index, \"+str(mid), mid\n",
    "        elif element > arr[mid]:\n",
    "            lower = mid+1\n",
    "        else:\n",
    "            upper = mid - 1\n",
    "    \n",
    "    return \"Element Not Found in the array\", -1"
   ]
  },
  {
   "cell_type": "code",
   "execution_count": 1,
   "metadata": {},
   "outputs": [],
   "source": [
    "arr=[12,34,45,56,56,56,56,67,89]"
   ]
  },
  {
   "cell_type": "code",
   "execution_count": 8,
   "metadata": {},
   "outputs": [
    {
     "name": "stdout",
     "output_type": "stream",
     "text": [
      "('Element Found at index, 4', 4)\n"
     ]
    }
   ],
   "source": [
    "x1=56\n",
    "print(binary_search(arr, x1, False))"
   ]
  },
  {
   "cell_type": "code",
   "execution_count": 4,
   "metadata": {},
   "outputs": [
    {
     "name": "stdout",
     "output_type": "stream",
     "text": [
      "('Element Not Found in the array', -1)\n"
     ]
    }
   ],
   "source": [
    "x2=57\n",
    "print(binary_search(arr, x2, False))"
   ]
  }
 ],
 "metadata": {
  "kernelspec": {
   "display_name": "base",
   "language": "python",
   "name": "python3"
  },
  "language_info": {
   "codemirror_mode": {
    "name": "ipython",
    "version": 3
   },
   "file_extension": ".py",
   "mimetype": "text/x-python",
   "name": "python",
   "nbconvert_exporter": "python",
   "pygments_lexer": "ipython3",
   "version": "3.8.15"
  }
 },
 "nbformat": 4,
 "nbformat_minor": 2
}
