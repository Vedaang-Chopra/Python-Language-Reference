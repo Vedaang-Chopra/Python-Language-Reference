{
 "cells": [
  {
   "cell_type": "code",
   "execution_count": null,
   "metadata": {},
   "outputs": [],
   "source": [
    "#  Python Linked List Implementation ..............................."
   ]
  },
  {
   "cell_type": "code",
   "execution_count": null,
   "metadata": {},
   "outputs": [],
   "source": [
    "class Linked_List_Node:\n",
    "    def __init__(self,data,next) -> None:\n",
    "        self.data=data\n",
    "        self.Next=next "
   ]
  },
  {
   "cell_type": "code",
   "execution_count": null,
   "metadata": {},
   "outputs": [],
   "source": [
    "#  Reference to First Node, is called Head and needs to be kept in memory.\n",
    "#  Reference to Last Node, is called Tail.\n",
    "\n",
    "a=Linked_List_Node(13,None)\n",
    "b=Linked_List_Node(15,None)\n",
    "a.next=b\n",
    "\n",
    "print(a.data)\n",
    "print(b.data,a.next.data)"
   ]
  },
  {
   "cell_type": "code",
   "execution_count": null,
   "metadata": {},
   "outputs": [],
   "source": [
    "class Linked_List(Linked_List_Node):\n",
    "    def __init__(self) -> None:\n",
    "        self.Head=None\n",
    "        # super().__init__(data, next)\n",
    "    \n",
    "    # The function, sets the first node by setting the head pointer\n",
    "    def set_head(self,first_node):\n",
    "        self.Head=first_node\n",
    "    \n",
    "    #  Attaches a new node to the last node\n",
    "    def set_next_node(self,current_node,new_node):\n",
    "        current_node.Next=new_node\n",
    "        return new_node\n",
    "    \n",
    "    def identify_last_node_in_linked_list(self):\n",
    "        current_reference_to_tail_of_linked_list=self.Head\n",
    "        while current_reference_to_tail_of_linked_list.Next!=None:\n",
    "            current_reference_to_tail_of_linked_list=current_reference_to_tail_of_linked_list.Next\n",
    "        return current_reference_to_tail_of_linked_list\n",
    "    \n",
    "    # Optimized Linked List Insertion Code, no need to identify last node again and again........\n",
    "    # Here for inserting N elements, we have Time Complexity of O(n), since for each node we have 0(1) complexity \n",
    "    def linked_list_creation(self,input_data):                    \n",
    "        # The point of the insertion function is to populate the head, and return or set the value.... \n",
    "        # Iterating over the array which holds data for the Linked List\n",
    "        print(\"Creating a Linked List and Inserting Data................\")\n",
    "        reference_to_tail_of_linked_list=None\n",
    "        for i in range(0,len(input_data)):\n",
    "            CURRENT_DATA=input_data[i]\n",
    "            print(\"Received Current Data:\", CURRENT_DATA)\n",
    "            #  If input received is -1, then insertion of linked list stops\n",
    "            if CURRENT_DATA==-1:\n",
    "                print(\"Received -1, hence breaking Linked List Insertion\")\n",
    "                break\n",
    "            else:\n",
    "                # Creating a node, with the data\n",
    "                new_node=Linked_List_Node(CURRENT_DATA,None)\n",
    "                print(\"Created Linked list node with data: \", new_node, new_node.data)\n",
    "                if self.Head==None:             # Check whether the list is empty (are we creating the first node)\n",
    "                    print(\"Empty Linked List, Hence populating Head Pointer Value......\")\n",
    "                    self.set_head(new_node)     # Assign Head, to first \n",
    "                    reference_to_tail_of_linked_list=self.Head\n",
    "                    print(\"After Insertion, Current Linked List Pointer Points to: \", reference_to_tail_of_linked_list, reference_to_tail_of_linked_list.data)\n",
    "                else:\n",
    "                    # Attaching other nodes, to previous node\n",
    "                    if reference_to_tail_of_linked_list==None:\n",
    "                        raise Exception(\"Error in Insertion logic, Please check. Linked List iterator wasn't assigned Head value\")\n",
    "                    else:\n",
    "                        if reference_to_tail_of_linked_list.Next==None:\n",
    "                            reference_to_tail_of_linked_list=self.set_next_node(reference_to_tail_of_linked_list,new_node)\n",
    "                            print(\"After Insertion, Current Linked List Pointer Points to: \", reference_to_tail_of_linked_list, reference_to_tail_of_linked_list.data)\n",
    "                        else:\n",
    "                            print(\"Found Some Error in Linked List Insertion, Hence Identifying the Last node, and inserting new noe after it.\")\n",
    "                            reference_to_tail_of_linked_list=self.identify_last_node_in_linked_list()\n",
    "                            print(\"Identified Last node of Linked List is: \", reference_to_tail_of_linked_list, reference_to_tail_of_linked_list.data)\n",
    "                            reference_to_tail_of_linked_list=self.set_next_node(reference_to_tail_of_linked_list,new_node)\n",
    "                            print(\"After Insertion, Current Linked List Pointer Points to: \", reference_to_tail_of_linked_list, reference_to_tail_of_linked_list.data)\n",
    "            print()\n",
    "    \n",
    "    #  Function that prints all values of Linked List\n",
    "    def print_all_values_of_linked_list(self):\n",
    "        current_list_pointer=self.Head\n",
    "        while current_list_pointer is not None:\n",
    "            print(current_list_pointer.data, end=\"->\")\n",
    "            current_list_pointer=current_list_pointer.Next\n",
    "        print(\"None\")"
   ]
  },
  {
   "cell_type": "code",
   "execution_count": null,
   "metadata": {},
   "outputs": [],
   "source": [
    "# def space_separated_string_input(input_String:str):\n",
    "#     input_data=[int(i) for i in input_String.split(' ')]\n",
    "#     return input_data\n",
    "\n",
    "# input_string=input(\"Please enter space separated numbers for input to linked list: \").strip()\n",
    "# input_data=space_separated_string_input(input_string)\n"
   ]
  },
  {
   "cell_type": "code",
   "execution_count": null,
   "metadata": {},
   "outputs": [],
   "source": [
    "# Setting Default Value for testing\n",
    "input_data=[1,2,3,4,5,6,7,8,9,-1]\n",
    "print(\"Received Data:\", input_data)\n",
    "\n",
    "linked_list_obj=Linked_List()\n",
    "linked_list_obj.linked_list_creation(input_data)\n",
    "\n",
    "print(\"Current Linked list object(Initial Status): \", end='')\n",
    "print(linked_list_obj)\n",
    "\n",
    "print(\"Final Status of data within the Linked List: \",end=\"\")\n",
    "linked_list_obj.print_all_values_of_linked_list()"
   ]
  },
  {
   "cell_type": "code",
   "execution_count": null,
   "metadata": {},
   "outputs": [],
   "source": []
  }
 ],
 "metadata": {
  "kernelspec": {
   "display_name": "base",
   "language": "python",
   "name": "python3"
  },
  "language_info": {
   "name": "python",
   "version": "3.8.13 (default, Mar 28 2022, 06:59:08) [MSC v.1916 64 bit (AMD64)]"
  },
  "orig_nbformat": 4,
  "vscode": {
   "interpreter": {
    "hash": "b16ced64710a4d8c99ae3dbf0c90823ef6abb92a4bc0ca6e13965003c1eb0fcc"
   }
  }
 },
 "nbformat": 4,
 "nbformat_minor": 2
}
