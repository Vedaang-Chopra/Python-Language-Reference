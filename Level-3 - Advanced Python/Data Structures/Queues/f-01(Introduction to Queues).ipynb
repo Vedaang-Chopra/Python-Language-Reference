{
 "cells": [
  {
   "cell_type": "code",
   "execution_count": null,
   "metadata": {},
   "outputs": [],
   "source": [
    "# Oueue ->  FIFO Based Struct( First in first out )\n",
    "# Operations in a queue\n",
    "    # Insert into queue -> enqueue\n",
    "    # Delete from queue -> dequeue\n",
    "    # No. of elements in queue -> Size\n",
    "    # Checking if queue is empty-> Is empty\n",
    "    # Checking if queue is full -> Is full \n",
    "    # Fetch front of queue -> Front\n",
    "    # Fetch rear of Queue -> Rear\n",
    "\n",
    "# Front and Rear of queue\n",
    "# FRONT-> The front-most element Of queue\n",
    "# Insertion happens at Rear, deletion happens at front."
   ]
  },
  {
   "cell_type": "code",
   "execution_count": null,
   "metadata": {},
   "outputs": [],
   "source": []
  },
  {
   "cell_type": "code",
   "execution_count": null,
   "metadata": {},
   "outputs": [],
   "source": []
  },
  {
   "cell_type": "code",
   "execution_count": null,
   "metadata": {},
   "outputs": [],
   "source": []
  },
  {
   "cell_type": "code",
   "execution_count": null,
   "metadata": {},
   "outputs": [],
   "source": []
  },
  {
   "cell_type": "code",
   "execution_count": null,
   "metadata": {},
   "outputs": [],
   "source": []
  },
  {
   "cell_type": "code",
   "execution_count": null,
   "metadata": {},
   "outputs": [],
   "source": []
  },
  {
   "cell_type": "code",
   "execution_count": null,
   "metadata": {},
   "outputs": [],
   "source": []
  },
  {
   "cell_type": "code",
   "execution_count": null,
   "metadata": {},
   "outputs": [],
   "source": []
  }
 ],
 "metadata": {
  "language_info": {
   "name": "python"
  },
  "orig_nbformat": 4
 },
 "nbformat": 4,
 "nbformat_minor": 2
}
