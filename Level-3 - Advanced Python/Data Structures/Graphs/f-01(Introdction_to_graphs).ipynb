{
 "cells": [
  {
   "cell_type": "code",
   "execution_count": 1,
   "metadata": {},
   "outputs": [
    {
     "data": {
      "text/plain": [
       "\"\\nEdge List\\nHere we maintain an array of vertices and array of edge\\n\\nvertices=[0,1,2,3,4] OR ['A', 'B', 'C', 'D' ]    # the vertices\\n#  All connections are saved here(all edges between 2 vertices)\\nedge=[[0,1], [1,2],[2,3],[3,4],[4,0]]\\n\\nBut here for finding any edge that exists \\nwe have to iterate through the complete edge array hence making it inefficient \\n\\n\""
      ]
     },
     "execution_count": 1,
     "metadata": {},
     "output_type": "execute_result"
    }
   ],
   "source": [
    "'''\n",
    "Edge List\n",
    "Here we maintain an array of vertices and array of edge\n",
    "\n",
    "vertices=[0,1,2,3,4] OR ['A', 'B', 'C', 'D' ]    # the vertices\n",
    "#  All connections are saved here(all edges between 2 vertices)\n",
    "edge=[[0,1], [1,2],[2,3],[3,4],[4,0]]\n",
    "\n",
    "But here for finding any edge that exists \n",
    "we have to iterate through the complete edge array hence making it inefficient \n",
    "\n",
    "'''"
   ]
  },
  {
   "cell_type": "code",
   "execution_count": null,
   "metadata": {},
   "outputs": [],
   "source": [
    "''''\n",
    "Adjacency List\n",
    "\n",
    "\n",
    "Here each vertices is storing the adjacent vertex\n",
    "\n",
    "vertices=[\n",
    "    '0':[1,2,3],\n",
    "    '1':[2,3],\n",
    "    '2':[1,3,],\n",
    "]\n",
    "\n",
    "#  But to find an adjacent vertex in a list is O(n) operation\n",
    "\n",
    "So here we save \n",
    "\n",
    "vertices=[\n",
    "    '0':{1,2,3},\n",
    "    '1':{2,3},\n",
    "    '2':{1,3,},\n",
    "]\n",
    "\n",
    "\n",
    "'''"
   ]
  },
  {
   "cell_type": "code",
   "execution_count": null,
   "metadata": {},
   "outputs": [],
   "source": [
    "'''\n",
    "\n",
    "Adjacency Matrix\n",
    "\n",
    "If no of vertices is 'n' then we will a build an adjacency matrix\n",
    "Here for all adjacent vertex we will save in the matrix adj[i][j]=1\n",
    "\n",
    "O(n^2) space\n",
    "O(1) -> Time \n",
    "\n",
    "'''"
   ]
  }
 ],
 "metadata": {
  "kernelspec": {
   "display_name": "investment_project",
   "language": "python",
   "name": "python3"
  },
  "language_info": {
   "codemirror_mode": {
    "name": "ipython",
    "version": 3
   },
   "file_extension": ".py",
   "mimetype": "text/x-python",
   "name": "python",
   "nbconvert_exporter": "python",
   "pygments_lexer": "ipython3",
   "version": "3.11.4"
  },
  "orig_nbformat": 4
 },
 "nbformat": 4,
 "nbformat_minor": 2
}
