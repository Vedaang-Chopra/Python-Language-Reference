{
 "cells": [
  {
   "cell_type": "code",
   "execution_count": null,
   "metadata": {},
   "outputs": [],
   "source": [
    "class Graph:\n",
    "    def __init__(self, nVertices) -> None:\n",
    "        self.nVertices = nVertices\n",
    "        self.adjMatrix= [[0 for i in range(nVertices)] for j in range(nVertices)]\n",
    "    \n",
    "    def addEdge(self, v1, v2) -> None:\n",
    "        self.adjMatrix[v1][v2]=1\n",
    "        self.adjMatrix[v2][v1]=1\n",
    "    \n",
    "    def removeEdge(self, v1, v2) -> None:\n",
    "        if self.containsEdge(v1, v2) is False:\n",
    "            return\n",
    "        else:\n",
    "            self.adjMatrix[v1][v2]=0\n",
    "            self.adjMatrix[v2][v1]=0\n",
    "    \n",
    "    def containsEdge(self, v1, v2):\n",
    "        return True if self.adjMatrix[v1][v2] >0 else False\n",
    "    \n",
    "    def __str__(self) -> str:\n",
    "        return str (self.adjMatrix)\n",
    "    "
   ]
  },
  {
   "cell_type": "code",
   "execution_count": null,
   "metadata": {},
   "outputs": [],
   "source": [
    "class graphOperations(Graph):\n",
    "    def __init__(self, nVertices)->None:\n",
    "        super().__init__(nVertices)\n",
    "    \n",
    "    def __getPathHelper(self, v1, v2, visited, path):\n",
    "        if self.adjMatrix[v1][v2] >0:\n",
    "            path.append(v2)\n",
    "            path.append(v1)\n",
    "            return path\n",
    "        else:\n",
    "            pass\n",
    "        \n",
    "    def getPath(self, v1, v2):\n",
    "        path =[]\n",
    "        visited=[False for i in range(self.nVertices)]\n",
    "        for i in range(self.nVertices):\n",
    "            if visited[i] is False:\n",
    "                self.__getPathHelper(i,v2)\n",
    "    \n",
    "        \n",
    "        \n",
    "    \n",
    "        \n",
    "        \n",
    "        "
   ]
  },
  {
   "cell_type": "code",
   "execution_count": null,
   "metadata": {},
   "outputs": [],
   "source": [
    "# Connected Graph\n",
    "g1=graphOperations(7)\n",
    "type(g1)\n",
    "g1.addEdge(0,1)\n",
    "g1.addEdge(0,2)\n",
    "g1.addEdge(0,3)\n",
    "g1.addEdge(1,5)\n",
    "g1.addEdge(2,4)\n",
    "g1.addEdge(4,6)\n",
    "g1.addEdge(3,6)\n",
    "g1.__str__()"
   ]
  }
 ],
 "metadata": {
  "language_info": {
   "name": "python"
  }
 },
 "nbformat": 4,
 "nbformat_minor": 2
}
