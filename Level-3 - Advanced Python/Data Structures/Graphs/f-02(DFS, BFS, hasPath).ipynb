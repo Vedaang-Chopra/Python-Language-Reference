{
 "cells": [
  {
   "cell_type": "code",
   "execution_count": 2,
   "metadata": {},
   "outputs": [],
   "source": [
    "from queue import Queue"
   ]
  },
  {
   "cell_type": "code",
   "execution_count": 3,
   "metadata": {},
   "outputs": [],
   "source": [
    "class Graph:\n",
    "    def __init__(self, nVertices) -> None:\n",
    "        self.nVertices = nVertices\n",
    "        self.adjMatrix= [[0 for i in range(nVertices)] for j in range(nVertices)]\n",
    "    \n",
    "    def addEdge(self, v1, v2) -> None:\n",
    "        self.adjMatrix[v1][v2]=1\n",
    "        self.adjMatrix[v2][v1]=1\n",
    "    \n",
    "    def removeEdge(self, v1, v2) -> None:\n",
    "        if self.containsEdge(v1, v2) is False:\n",
    "            return\n",
    "        else:\n",
    "            self.adjMatrix[v1][v2]=0\n",
    "            self.adjMatrix[v2][v1]=0\n",
    "    \n",
    "    def containsEdge(self, v1, v2):\n",
    "        return True if self.adjMatrix[v1][v2] >0 else False\n",
    "    \n",
    "    def __str__(self) -> str:\n",
    "        return str (self.adjMatrix)\n",
    "    "
   ]
  },
  {
   "cell_type": "code",
   "execution_count": 128,
   "metadata": {},
   "outputs": [],
   "source": [
    "class graphOperations(Graph):\n",
    "    def __init__(self, nVertices)->None:\n",
    "        super().__init__(nVertices)\n",
    "        \n",
    "    def __dfsHelper(self, starting_vertex, visited):\n",
    "        print(starting_vertex, end='\\t')\n",
    "        visited[starting_vertex]=True\n",
    "        for i in range(self.nVertices):\n",
    "            if visited[i] is False and self.adjMatrix[starting_vertex][i] >0:\n",
    "                self.__dfsHelper(i, visited)\n",
    "            else:\n",
    "                continue\n",
    "        \n",
    "        \n",
    "    def dfs(self):\n",
    "        visited= [False for i in range(self.nVertices)]\n",
    "        # This for loop and if statement ensures that in case of disconnected graph that all components are traversed\n",
    "        for i in range(self.nVertices):\n",
    "            if visited[i] is False:\n",
    "                self.__dfsHelper(i, visited)\n",
    "        \n",
    "    def __bfsHelper(self, starting_vertex, visited):\n",
    "        q=Queue()\n",
    "        q.put(starting_vertex)\n",
    "        visited[starting_vertex]=True\n",
    "        \n",
    "        while q.empty() is False:\n",
    "            current_vertex=q.get()\n",
    "            print(current_vertex, end='\\t')\n",
    "            for i in range(self.nVertices):\n",
    "                if visited[i] is False and self.adjMatrix[current_vertex][i] >0:\n",
    "                    q.put(i)\n",
    "                    visited[i]=True\n",
    "    \n",
    "    def bfs(self):\n",
    "        visited= [False for i in range(self.nVertices)]\n",
    "        # This for loop and if statement ensures that in case of disconnected graph that all components are traversed\n",
    "        for i in range(self.nVertices):\n",
    "            if visited[i] is False:\n",
    "                self.__bfsHelper(i, visited)\n",
    "    \n",
    "    #  For disconnected graph, we need to traverse on all sub-components, to traverse the entire graph\n",
    "    \n",
    "    def __hasPathHelper(self, v1, v2, visited):\n",
    "        visited[v1]=True\n",
    "        if self.adjMatrix[v1][v2] >0:\n",
    "            return True\n",
    "        else:\n",
    "            for i in range(self.nVertices):\n",
    "                if visited[i] is False and self.adjMatrix[v1][i] >0:\n",
    "                    self.__hasPathHelper(i, v2, visited)\n",
    "        return False\n",
    "    \n",
    "    def hasPath(self, v1, v2):\n",
    "        visited= [False for i in range(self.nVertices)]\n",
    "        found_path=self.__hasPathHelper(v1, v2, visited)\n",
    "        if found_path:\n",
    "            print(\"Found path between \", v1, \" and \", v2)\n",
    "        else:\n",
    "            print(\"Not Found any path between \", v1, \" and \", v2)"
   ]
  },
  {
   "cell_type": "code",
   "execution_count": 129,
   "metadata": {},
   "outputs": [
    {
     "data": {
      "text/plain": [
       "'[[0, 1, 1, 0, 0], [1, 0, 0, 1, 0], [1, 0, 0, 1, 1], [0, 1, 1, 0, 0], [0, 0, 1, 0, 0]]'"
      ]
     },
     "execution_count": 129,
     "metadata": {},
     "output_type": "execute_result"
    }
   ],
   "source": [
    "# Connected Graph\n",
    "g1=graphOperations(5)\n",
    "type(g1)\n",
    "g1.addEdge(0,1)\n",
    "g1.addEdge(1,3)\n",
    "g1.addEdge(2,4)\n",
    "g1.addEdge(2,3)\n",
    "g1.addEdge(0,2)\n",
    "g1.__str__()"
   ]
  },
  {
   "cell_type": "code",
   "execution_count": 130,
   "metadata": {},
   "outputs": [
    {
     "name": "stdout",
     "output_type": "stream",
     "text": [
      "DFS Traversal:\n",
      "0\t1\t3\t2\t4\t\n",
      "BFS Traversal:\n",
      "0\t1\t2\t3\t4\t\n"
     ]
    }
   ],
   "source": [
    "print(\"DFS Traversal:\")\n",
    "g1.dfs()\n",
    "print()\n",
    "print(\"BFS Traversal:\")\n",
    "g1.bfs()\n",
    "print()"
   ]
  },
  {
   "cell_type": "code",
   "execution_count": 131,
   "metadata": {},
   "outputs": [
    {
     "data": {
      "text/plain": [
       "'[[0, 1, 0, 1, 0, 0, 0], [1, 0, 0, 0, 0, 0, 0], [0, 0, 0, 0, 1, 1, 1], [1, 0, 0, 0, 0, 0, 0], [0, 0, 1, 0, 0, 0, 0], [0, 0, 1, 0, 0, 0, 0], [0, 0, 1, 0, 0, 0, 0]]'"
      ]
     },
     "execution_count": 131,
     "metadata": {},
     "output_type": "execute_result"
    }
   ],
   "source": [
    "# Disconnected graph\n",
    "g2=graphOperations(7)\n",
    "g2.addEdge(0,1)\n",
    "g2.addEdge(0,3)\n",
    "g2.addEdge(2,4)\n",
    "g2.addEdge(2,5)\n",
    "g2.addEdge(2,6)\n",
    "g2.__str__()"
   ]
  },
  {
   "cell_type": "code",
   "execution_count": 132,
   "metadata": {},
   "outputs": [
    {
     "name": "stdout",
     "output_type": "stream",
     "text": [
      "DFS Traversal:\n",
      "0\t1\t3\t2\t4\t5\t6\t\n",
      "BFS Traversal:\n",
      "0\t1\t3\t2\t4\t5\t6\t\n"
     ]
    }
   ],
   "source": [
    "print(\"DFS Traversal:\")\n",
    "g2.dfs()\n",
    "print()\n",
    "print(\"BFS Traversal:\")\n",
    "g2.bfs()\n",
    "print()"
   ]
  },
  {
   "cell_type": "code",
   "execution_count": 136,
   "metadata": {},
   "outputs": [
    {
     "name": "stdout",
     "output_type": "stream",
     "text": [
      "Not Found any path between  0  and  5\n"
     ]
    }
   ],
   "source": [
    "g2.hasPath(0,5)"
   ]
  }
 ],
 "metadata": {
  "kernelspec": {
   "display_name": "Python 3",
   "language": "python",
   "name": "python3"
  },
  "language_info": {
   "codemirror_mode": {
    "name": "ipython",
    "version": 3
   },
   "file_extension": ".py",
   "mimetype": "text/x-python",
   "name": "python",
   "nbconvert_exporter": "python",
   "pygments_lexer": "ipython3",
   "version": "3.8.15"
  }
 },
 "nbformat": 4,
 "nbformat_minor": 2
}
