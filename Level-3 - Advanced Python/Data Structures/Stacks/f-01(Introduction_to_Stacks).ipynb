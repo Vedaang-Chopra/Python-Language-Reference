{
 "cells": [
  {
   "cell_type": "code",
   "execution_count": null,
   "metadata": {},
   "outputs": [],
   "source": [
    "'''\n",
    "\n",
    "Stacks: - \n",
    "\n",
    "1. Abstract Data Type, Following the order is necessary\n",
    "2. Entry  and Exit point are same. To remove anything first top elements need to be removed\n",
    "\n",
    "\n",
    "Main Operations: - \n",
    "1. Push -  Insert in the stack\n",
    "2. Pop -  Delete from Stack\n",
    "3. Top - Access the topmost element of the Stack\n",
    "4. Size - Number of elements in Stack\n",
    "5. IsEmpty - Check if stack is empty\n",
    "\n",
    "\n",
    "Recursion Stack: - \n",
    "Doing all operations of Stack using recursion\n",
    "'''"
   ]
  },
  {
   "cell_type": "code",
   "execution_count": null,
   "metadata": {},
   "outputs": [],
   "source": [
    "class arrayStack:\n",
    "    def __init__(self)->None:\n",
    "        self.top=0\n",
    "        self.__stack=[]\n",
    "        \n",
    "    def push(self, element):\n",
    "        self.__stack.append(element)\n",
    "        self.top+=1\n",
    "    \n",
    "    def pop(self):\n",
    "        pop_ele=self.__stack.pop(self.top)\n",
    "        self.top-=1\n",
    "        return pop_ele\n",
    "    \n",
    "    def top(self):\n",
    "        return self.__stack[self.top]\n",
    "    \n",
    "    def size(self):\n",
    "        return len(self.__stack)\n",
    "    \n",
    "    def isEmtpy(self):\n",
    "        if "
   ]
  },
  {
   "cell_type": "code",
   "execution_count": null,
   "metadata": {},
   "outputs": [],
   "source": []
  },
  {
   "cell_type": "code",
   "execution_count": null,
   "metadata": {},
   "outputs": [],
   "source": []
  },
  {
   "cell_type": "code",
   "execution_count": null,
   "metadata": {},
   "outputs": [],
   "source": []
  },
  {
   "cell_type": "code",
   "execution_count": null,
   "metadata": {},
   "outputs": [],
   "source": []
  },
  {
   "cell_type": "code",
   "execution_count": null,
   "metadata": {},
   "outputs": [],
   "source": []
  }
 ],
 "metadata": {
  "kernelspec": {
   "display_name": "base",
   "language": "python",
   "name": "python3"
  },
  "language_info": {
   "name": "python",
   "version": "3.8.15 (default, Nov 24 2022, 14:38:14) [MSC v.1916 64 bit (AMD64)]"
  },
  "orig_nbformat": 4,
  "vscode": {
   "interpreter": {
    "hash": "b16ced64710a4d8c99ae3dbf0c90823ef6abb92a4bc0ca6e13965003c1eb0fcc"
   }
  }
 },
 "nbformat": 4,
 "nbformat_minor": 2
}
