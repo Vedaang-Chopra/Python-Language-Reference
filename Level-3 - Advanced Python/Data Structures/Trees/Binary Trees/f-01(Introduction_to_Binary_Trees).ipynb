{
 "cells": [
  {
   "attachments": {},
   "cell_type": "markdown",
   "metadata": {},
   "source": [
    "<h2> Introduction to Trees </h2>\n",
    "<ul>\n",
    "Example of trees being used: - \n",
    "<li>Directory structure</li>\n",
    "<li>Organizational hierarchy</li>\n",
    "</ul>"
   ]
  },
  {
   "cell_type": "code",
   "execution_count": 1,
   "metadata": {},
   "outputs": [],
   "source": [
    "# Creating a tree node: - \n",
    "# Each node has data and the addresses of children.\n",
    "# For a binary tree, there are upto 2 children possible. Thus we call one as left child and the other as right child\n",
    "\n",
    "class BinaryTree_Node:\n",
    "    def __init__(self,data) -> None:\n",
    "        self.data=data\n",
    "        self.left_child = None\n",
    "        self.right_child = None\n",
    "    "
   ]
  },
  {
   "cell_type": "code",
   "execution_count": 2,
   "metadata": {},
   "outputs": [],
   "source": [
    "node_1=BinaryTree_Node(1)\n",
    "node_2=BinaryTree_Node(2)\n",
    "node_3=BinaryTree_Node(3)\n",
    "node_4=BinaryTree_Node(4)\n",
    "node_5=BinaryTree_Node(5)"
   ]
  },
  {
   "cell_type": "code",
   "execution_count": 3,
   "metadata": {},
   "outputs": [],
   "source": [
    "node_1.left_child=node_2\n",
    "node_1.right_child=node_3\n",
    "node_2.left_child=node_4\n",
    "node_2.right_child=node_5"
   ]
  },
  {
   "cell_type": "code",
   "execution_count": null,
   "metadata": {},
   "outputs": [],
   "source": [
    "# Printing a Tree........\n"
   ]
  },
  {
   "cell_type": "code",
   "execution_count": null,
   "metadata": {},
   "outputs": [],
   "source": []
  },
  {
   "cell_type": "code",
   "execution_count": null,
   "metadata": {},
   "outputs": [],
   "source": []
  },
  {
   "cell_type": "code",
   "execution_count": null,
   "metadata": {},
   "outputs": [],
   "source": []
  }
 ],
 "metadata": {
  "kernelspec": {
   "display_name": "base",
   "language": "python",
   "name": "python3"
  },
  "language_info": {
   "codemirror_mode": {
    "name": "ipython",
    "version": 3
   },
   "file_extension": ".py",
   "mimetype": "text/x-python",
   "name": "python",
   "nbconvert_exporter": "python",
   "pygments_lexer": "ipython3",
   "version": "3.8.15"
  },
  "orig_nbformat": 4
 },
 "nbformat": 4,
 "nbformat_minor": 2
}
